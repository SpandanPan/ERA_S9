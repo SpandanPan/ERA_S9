{
  "nbformat": 4,
  "nbformat_minor": 0,
  "metadata": {
    "colab": {
      "provenance": [],
      "gpuType": "T4"
    },
    "kernelspec": {
      "name": "python3",
      "display_name": "Python 3"
    },
    "accelerator": "GPU"
  },
  "cells": [
    {
      "cell_type": "markdown",
      "metadata": {
        "id": "aO-7t1Y7-hV4"
      },
      "source": [
        "# Import Libraries"
      ]
    },
    {
      "cell_type": "code",
      "metadata": {
        "id": "8kH16rnZ7wt_"
      },
      "source": [
        "from __future__ import print_function\n",
        "import torch\n",
        "import torch.nn as nn\n",
        "import torch.nn.functional as F\n",
        "import torch.optim as optim\n",
        "from torchvision import datasets,transforms\n",
        "import albumentations as A\n",
        "from albumentations.pytorch import ToTensorV2\n",
        "import os\n",
        "import numpy as np\n",
        "os.environ['KMP_DUPLICATE_LIB_OK']='True'"
      ],
      "execution_count": 15,
      "outputs": []
    },
    {
      "cell_type": "markdown",
      "metadata": {
        "id": "ky3f_Odl-7um"
      },
      "source": [
        "## Data Transformations\n",
        "\n",
        "We first start with defining our data transformations. We need to think what our data is and how can we augment it to correct represent images which it might not see otherwise.\n"
      ]
    },
    {
      "cell_type": "code",
      "source": [
        "train_transforms = A.Compose([\n",
        "    #A.Resize(32, 32),\n",
        "    A.ShiftScaleRotate(shift_limit = 0.2, scale_limit = 0.1, rotate_limit = 15,p=0.4),\n",
        "    A.HorizontalFlip(),\n",
        "    A.ColorJitter (brightness=0.1, contrast=0.2, saturation=0.4, hue=0.2, always_apply=False, p=0.5),\n",
        "    A.CoarseDropout(max_holes=1, max_height=16, max_width=16, fill_value=0, mask_fill_value=None, always_apply=False, p=0.3),\n",
        "    A.Normalize (mean=[0.4914, 0.4822, 0.4465], std=[0.2023, 0.1994, 0.2010]),\n",
        "    ToTensorV2()\n",
        "])\n",
        "\n",
        "# Test Phase transformations\n",
        "test_transforms = A.Compose([\n",
        "                             ToTensorV2(),\n",
        "                             A.Normalize (mean=[0.4914, 0.4822, 0.4465], std=[0.2023, 0.1994, 0.2010])\n",
        "                                       ])\n",
        "\n",
        "test_transforms = transforms.Compose([\n",
        "                                      #  transforms.Resize((28, 28)),\n",
        "                                      #  transforms.ColorJitter(brightness=0.10, contrast=0.1, saturation=0.10, hue=0.1),\n",
        "                                       transforms.ToTensor(),\n",
        "                                       transforms.Normalize((0.4914, 0.4822, 0.4465), (0.2023, 0.1994, 0.2010)),\n",
        "                                       ])\n",
        "\n",
        "def apply_transform_train(image):\n",
        "    return train_transforms(image=np.array(image))\n",
        "\n",
        "def apply_transform_test(image):\n",
        "    return test_transforms(image=np.array(image))"
      ],
      "metadata": {
        "id": "39xchBPt7zMG"
      },
      "execution_count": 16,
      "outputs": []
    },
    {
      "cell_type": "markdown",
      "metadata": {
        "id": "oQciFYo2B1mO"
      },
      "source": [
        "# Dataset and Creating Train/Test Split"
      ]
    },
    {
      "cell_type": "code",
      "metadata": {
        "id": "_4A84rlfDA23",
        "colab": {
          "base_uri": "https://localhost:8080/"
        },
        "outputId": "e22a7966-c044-40cf-edd2-d64b8377e282"
      },
      "source": [
        "train_data = datasets.CIFAR10('./data', train=True, download=True, transform=apply_transform_train)\n",
        "test_data = datasets.CIFAR10('./data', train=False, download=True, transform=test_transforms)"
      ],
      "execution_count": 4,
      "outputs": [
        {
          "output_type": "stream",
          "name": "stdout",
          "text": [
            "Downloading https://www.cs.toronto.edu/~kriz/cifar-10-python.tar.gz to ./data/cifar-10-python.tar.gz\n"
          ]
        },
        {
          "output_type": "stream",
          "name": "stderr",
          "text": [
            "100%|██████████| 170498071/170498071 [00:13<00:00, 12983838.98it/s]\n"
          ]
        },
        {
          "output_type": "stream",
          "name": "stdout",
          "text": [
            "Extracting ./data/cifar-10-python.tar.gz to ./data\n",
            "Files already downloaded and verified\n"
          ]
        }
      ]
    },
    {
      "cell_type": "markdown",
      "metadata": {
        "id": "qgldp_3-Dn0c"
      },
      "source": [
        "# Dataloader Arguments & Test/Train Dataloaders\n"
      ]
    },
    {
      "cell_type": "code",
      "metadata": {
        "id": "C8OLDR79DrHG",
        "outputId": "630e9194-126c-465d-f43e-0a6c025d0cb2",
        "colab": {
          "base_uri": "https://localhost:8080/"
        }
      },
      "source": [
        "SEED = 2\n",
        "\n",
        "# CUDA?\n",
        "cuda = torch.cuda.is_available()\n",
        "print(\"CUDA Available?\", cuda)\n",
        "\n",
        "# For reproducibility\n",
        "torch.manual_seed(SEED)\n",
        "\n",
        "if cuda:\n",
        "    torch.cuda.manual_seed(SEED)\n",
        "\n",
        "# dataloader arguments - something you'll fetch these from cmdprmt\n",
        "args = dict(shuffle=True, batch_size=128, num_workers=4, pin_memory=True)\n",
        "\n",
        "# train dataloader\n",
        "train_loader = torch.utils.data.DataLoader(train_data,**args)\n",
        "\n",
        "# test dataloader\n",
        "test_loader = torch.utils.data.DataLoader(test_data, **args)"
      ],
      "execution_count": 5,
      "outputs": [
        {
          "output_type": "stream",
          "name": "stdout",
          "text": [
            "CUDA Available? True\n"
          ]
        },
        {
          "output_type": "stream",
          "name": "stderr",
          "text": [
            "/usr/local/lib/python3.10/dist-packages/torch/utils/data/dataloader.py:560: UserWarning: This DataLoader will create 4 worker processes in total. Our suggested max number of worker in current system is 2, which is smaller than what this DataLoader is going to create. Please be aware that excessive worker creation might get DataLoader running slow or even freeze, lower the worker number to avoid potential slowness/freeze if necessary.\n",
            "  warnings.warn(_create_warning_msg(\n"
          ]
        }
      ]
    },
    {
      "cell_type": "code",
      "source": [
        "# Shape of the train data\n",
        "print (train_data.data.shape)\n",
        "# Shape of the test data\n",
        "print (test_data.data.shape)\n",
        "\n",
        "# Number of categories in the data\n",
        "print (len(train_data.classes))"
      ],
      "metadata": {
        "colab": {
          "base_uri": "https://localhost:8080/"
        },
        "id": "NDHC0_byQf2Y",
        "outputId": "ea9f8841-4f01-4a89-b89c-71664603f22d"
      },
      "execution_count": 6,
      "outputs": [
        {
          "output_type": "stream",
          "name": "stdout",
          "text": [
            "(50000, 32, 32, 3)\n",
            "(10000, 32, 32, 3)\n",
            "10\n"
          ]
        }
      ]
    },
    {
      "cell_type": "code",
      "source": [
        "import matplotlib.pyplot as plt\n",
        "import numpy as np\n",
        "\n",
        "# functions to show an image\n",
        "\n",
        "\n",
        "def imshow(img):\n",
        "    img = img / 2 + 0.5     # unnormalize\n",
        "    npimg = img.numpy()\n",
        "    plt.imshow(np.transpose(npimg, (1, 2, 0)))\n",
        "    plt.show()\n",
        "\n",
        "\n",
        "# get some random training images\n",
        "dataiter = iter(train_loader)\n",
        "images, labels = next(dataiter)\n",
        "classes = ('plane', 'car', 'bird', 'cat',\n",
        "           'deer', 'dog', 'frog', 'horse', 'ship', 'truck')\n",
        "\n",
        "import torchvision\n",
        "# show images\n",
        "imshow(torchvision.utils.make_grid(images['image'][:4]))\n",
        "# print labels\n",
        "print(' '.join(f'{classes[labels[j]]:5s}' for j in range(4)))"
      ],
      "metadata": {
        "colab": {
          "base_uri": "https://localhost:8080/",
          "height": 229
        },
        "id": "_YtLrchAnz5K",
        "outputId": "e0eb1750-cfa0-423a-a597-f313a70a02d4"
      },
      "execution_count": 7,
      "outputs": [
        {
          "output_type": "stream",
          "name": "stderr",
          "text": [
            "WARNING:matplotlib.image:Clipping input data to the valid range for imshow with RGB data ([0..1] for floats or [0..255] for integers).\n"
          ]
        },
        {
          "output_type": "display_data",
          "data": {
            "text/plain": [
              "<Figure size 640x480 with 1 Axes>"
            ],
            "image/png": "[encoded data removed]"
          },
          "metadata": {}
        },
        {
          "output_type": "stream",
          "name": "stdout",
          "text": [
            "ship  ship  bird  ship \n"
          ]
        }
      ]
    },
    {
      "cell_type": "code",
      "source": [
        "dropout_value = 0.1\n",
        "class Model_CFAR(nn.Module):\n",
        "    def __init__(self):\n",
        "        super(Model_CFAR, self).__init__()\n",
        "\n",
        "        # *******************************Conv Block 1*************************\n",
        "        # Block1-Layer1\n",
        "        self.convblk1_ly1 = nn.Sequential(\n",
        "            nn.Conv2d(in_channels=3, out_channels=64, kernel_size=(3, 3), padding=0, bias=False),\n",
        "            nn.ReLU(),\n",
        "            nn.BatchNorm2d(64),\n",
        "            nn.Dropout(dropout_value))\n",
        "\n",
        "        # Block1-Layer2\n",
        "        self.convblk1_ly2 = nn.Sequential(\n",
        "            nn.Conv2d(in_channels=64, out_channels=64, kernel_size=(3, 3), padding=2,  bias=False,dilation=2),\n",
        "            nn.ReLU(),\n",
        "            nn.BatchNorm2d(64),\n",
        "            nn.Dropout(dropout_value))\n",
        "\n",
        "        # Block1 - TB\n",
        "        self.convblk1_tb = nn.Sequential(\n",
        "            nn.Conv2d(in_channels=64, out_channels=30, kernel_size=(1, 1), padding=0, bias=False),\n",
        "            nn.Conv2d(in_channels=30, out_channels=30, kernel_size=(3, 3), padding=0,stride=2, bias=False),\n",
        "            nn.ReLU())\n",
        "        # ****************************Conv Block 2****************************\n",
        "        # Block 2 - Layer1 - Depthwise\n",
        "        self.convblk2_ly1 = nn.Sequential(\n",
        "            nn.Conv2d(in_channels=30, out_channels=30, kernel_size=(3, 3), padding=1, bias=False,groups=30),\n",
        "            nn.ReLU(),\n",
        "            nn.BatchNorm2d(30),\n",
        "            nn.Dropout(dropout_value),\n",
        "            nn.Conv2d(in_channels=30, out_channels=64, kernel_size=(1, 1), padding=0, bias=False))\n",
        "\n",
        "         #Block 2- Layer2\n",
        "        self.convblk2_ly2 = nn.Sequential(\n",
        "            nn.Conv2d(in_channels=64, out_channels=64, kernel_size=(3, 3), padding=2, bias=False,dilation=2),\n",
        "            nn.ReLU(),\n",
        "            nn.BatchNorm2d(64),\n",
        "            nn.Dropout(dropout_value))\n",
        "\n",
        "        # Block 2 - TB - Using Dilated Conv Layer in place of strided conv\n",
        "        self.convblk2_tb = nn.Sequential(\n",
        "            nn.Conv2d(in_channels=64, out_channels=30, kernel_size=(1, 1), padding=0, bias=False),\n",
        "            nn.Conv2d(in_channels=30, out_channels=30, kernel_size=(3, 3), padding=0,stride=1,dilation=3, bias=False),\n",
        "            nn.ReLU())\n",
        "        # ****************************Conv Block 3****************************\n",
        "        # Block 3 - Layer 1\n",
        "\n",
        "        self.convblk3_ly1 = nn.Sequential(\n",
        "            nn.Conv2d(in_channels=30, out_channels=64, kernel_size=(3, 3), padding=1, bias=False),\n",
        "            nn.ReLU(),\n",
        "            nn.BatchNorm2d(64),\n",
        "            nn.Dropout(dropout_value))\n",
        "\n",
        "        #Block 3 - Layer 2\n",
        "        self.convblk3_ly2 = nn.Sequential(\n",
        "            nn.Conv2d(in_channels=64, out_channels=64, kernel_size=(3, 3), padding=2, bias=False,dilation=2),\n",
        "            nn.ReLU(),\n",
        "            nn.BatchNorm2d(64),\n",
        "            nn.Dropout(dropout_value))\n",
        "\n",
        "        # Block 3- TB\n",
        "        self.convblk3_tb = nn.Sequential(\n",
        "            nn.Conv2d(in_channels=64, out_channels=30, kernel_size=(1, 1), padding=0, bias=False),\n",
        "            nn.Conv2d(in_channels=30, out_channels=30, kernel_size=(3, 3), padding=1,stride=2, dilation=1, bias=False),\n",
        "            nn.BatchNorm2d(30),\n",
        "            nn.ReLU())\n",
        "        # ****************************Conv Block 4****************************\n",
        "        # Block 4 - Layer 1\n",
        "\n",
        "        self.convblk4_ly1 = nn.Sequential(\n",
        "            nn.Conv2d(in_channels=30, out_channels=35, kernel_size=(3, 3), padding=1, bias=False),\n",
        "            nn.ReLU(),\n",
        "            nn.BatchNorm2d(35),\n",
        "            nn.Dropout(dropout_value))\n",
        "\n",
        "        #Block 4 - Layer 2\n",
        "        self.convblk4_ly2 = nn.Sequential(\n",
        "            nn.Conv2d(in_channels=35, out_channels=35, kernel_size=(3, 3), padding=2, bias=False,dilation=2),\n",
        "            nn.ReLU(),\n",
        "            nn.BatchNorm2d(35),\n",
        "            nn.Dropout(dropout_value))\n",
        "\n",
        "        # Block 4- Layer 3\n",
        "        self.convblk4_ly3 = nn.Sequential(\n",
        "            nn.Conv2d(in_channels=35, out_channels=44, kernel_size=(3, 3), padding=1,stride=1, bias=False),\n",
        "            nn.ReLU(),\n",
        "            nn.BatchNorm2d(44))\n",
        "        #****************************Output Block*************************\n",
        "        # GAP Layer\n",
        "        self.gap = nn.AdaptiveAvgPool2d(1)\n",
        "\n",
        "       # FC Layer\n",
        "        self.fc = nn.Linear(44, 10,bias=False)\n",
        "\n",
        "    def forward(self, x):\n",
        "        x = self.convblk1_ly1(x)\n",
        "        x = x+self.convblk1_ly2(x)\n",
        "        x = self.convblk1_tb(x)\n",
        "        x = self.convblk2_ly1(x)\n",
        "        x = x+self.convblk2_ly2(x)\n",
        "        x = self.convblk2_tb(x)\n",
        "        x = self.convblk3_ly1(x)\n",
        "        x = x+self.convblk3_ly2(x)\n",
        "        x = self.convblk3_tb(x)\n",
        "        x = self.convblk4_ly1(x)\n",
        "        x = x+self.convblk4_ly2(x)\n",
        "        x = self.convblk4_ly3(x)\n",
        "        x = self.gap(x)\n",
        "        x = x.view(-1, 1*1*44)\n",
        "        x = self.fc(x)\n",
        "        x = x.view(-1, 10)\n",
        "        return F.log_softmax(x, dim=-1)"
      ],
      "metadata": {
        "id": "M9bmFEqftEeG"
      },
      "execution_count": 37,
      "outputs": []
    },
    {
      "cell_type": "code",
      "source": [
        "x = torch.randn(1,64,11,11)\n",
        "model=Model_CFAR()\n",
        "for layer in model.convblk2_tb:\n",
        "  x = layer(x)\n",
        "  print (layer)\n",
        "  print(x.size())"
      ],
      "metadata": {
        "colab": {
          "base_uri": "https://localhost:8080/"
        },
        "id": "dUg_XGUSDnCR",
        "outputId": "6036b1d4-5698-4a67-c479-2b689b4ba24e"
      },
      "execution_count": 38,
      "outputs": [
        {
          "output_type": "stream",
          "name": "stdout",
          "text": [
            "Conv2d(64, 30, kernel_size=(1, 1), stride=(1, 1), bias=False)\n",
            "torch.Size([1, 30, 11, 11])\n",
            "Conv2d(30, 30, kernel_size=(3, 3), stride=(1, 1), dilation=(3, 3), bias=False)\n",
            "torch.Size([1, 30, 5, 5])\n",
            "ReLU()\n",
            "torch.Size([1, 30, 5, 5])\n"
          ]
        }
      ]
    },
    {
      "cell_type": "code",
      "source": [
        "# Model Summary\n",
        "!pip install torchsummary\n",
        "from torchsummary import summary\n",
        "use_cuda = torch.cuda.is_available()\n",
        "device = torch.device(\"cuda\" if use_cuda else \"cpu\")\n",
        "print(device)\n",
        "model = Model_CFAR().to(device)\n",
        "summary(model, input_size=(3, 32, 32))"
      ],
      "metadata": {
        "colab": {
          "base_uri": "https://localhost:8080/"
        },
        "id": "YRS1__Dt4SBw",
        "outputId": "59f172a9-4a59-4e8a-84b7-70ec742796e0"
      },
      "execution_count": 39,
      "outputs": [
        {
          "output_type": "stream",
          "name": "stdout",
          "text": [
            "Requirement already satisfied: torchsummary in /usr/local/lib/python3.10/dist-packages (1.5.1)\n",
            "cuda\n",
            "----------------------------------------------------------------\n",
            "        Layer (type)               Output Shape         Param #\n",
            "================================================================\n",
            "            Conv2d-1           [-1, 64, 30, 30]           1,728\n",
            "              ReLU-2           [-1, 64, 30, 30]               0\n",
            "       BatchNorm2d-3           [-1, 64, 30, 30]             128\n",
            "           Dropout-4           [-1, 64, 30, 30]               0\n",
            "            Conv2d-5           [-1, 64, 30, 30]          36,864\n",
            "              ReLU-6           [-1, 64, 30, 30]               0\n",
            "       BatchNorm2d-7           [-1, 64, 30, 30]             128\n",
            "           Dropout-8           [-1, 64, 30, 30]               0\n",
            "            Conv2d-9           [-1, 30, 30, 30]           1,920\n",
            "           Conv2d-10           [-1, 30, 14, 14]           8,100\n",
            "             ReLU-11           [-1, 30, 14, 14]               0\n",
            "           Conv2d-12           [-1, 30, 14, 14]             270\n",
            "             ReLU-13           [-1, 30, 14, 14]               0\n",
            "      BatchNorm2d-14           [-1, 30, 14, 14]              60\n",
            "          Dropout-15           [-1, 30, 14, 14]               0\n",
            "           Conv2d-16           [-1, 64, 14, 14]           1,920\n",
            "           Conv2d-17           [-1, 64, 14, 14]          36,864\n",
            "             ReLU-18           [-1, 64, 14, 14]               0\n",
            "      BatchNorm2d-19           [-1, 64, 14, 14]             128\n",
            "          Dropout-20           [-1, 64, 14, 14]               0\n",
            "           Conv2d-21           [-1, 30, 14, 14]           1,920\n",
            "           Conv2d-22             [-1, 30, 8, 8]           8,100\n",
            "             ReLU-23             [-1, 30, 8, 8]               0\n",
            "           Conv2d-24             [-1, 64, 8, 8]          17,280\n",
            "             ReLU-25             [-1, 64, 8, 8]               0\n",
            "      BatchNorm2d-26             [-1, 64, 8, 8]             128\n",
            "          Dropout-27             [-1, 64, 8, 8]               0\n",
            "           Conv2d-28             [-1, 64, 8, 8]          36,864\n",
            "             ReLU-29             [-1, 64, 8, 8]               0\n",
            "      BatchNorm2d-30             [-1, 64, 8, 8]             128\n",
            "          Dropout-31             [-1, 64, 8, 8]               0\n",
            "           Conv2d-32             [-1, 30, 8, 8]           1,920\n",
            "           Conv2d-33             [-1, 30, 4, 4]           8,100\n",
            "      BatchNorm2d-34             [-1, 30, 4, 4]              60\n",
            "             ReLU-35             [-1, 30, 4, 4]               0\n",
            "           Conv2d-36             [-1, 35, 4, 4]           9,450\n",
            "             ReLU-37             [-1, 35, 4, 4]               0\n",
            "      BatchNorm2d-38             [-1, 35, 4, 4]              70\n",
            "          Dropout-39             [-1, 35, 4, 4]               0\n",
            "           Conv2d-40             [-1, 35, 4, 4]          11,025\n",
            "             ReLU-41             [-1, 35, 4, 4]               0\n",
            "      BatchNorm2d-42             [-1, 35, 4, 4]              70\n",
            "          Dropout-43             [-1, 35, 4, 4]               0\n",
            "           Conv2d-44             [-1, 44, 4, 4]          13,860\n",
            "             ReLU-45             [-1, 44, 4, 4]               0\n",
            "      BatchNorm2d-46             [-1, 44, 4, 4]              88\n",
            "AdaptiveAvgPool2d-47             [-1, 44, 1, 1]               0\n",
            "           Linear-48                   [-1, 10]             440\n",
            "================================================================\n",
            "Total params: 197,613\n",
            "Trainable params: 197,613\n",
            "Non-trainable params: 0\n",
            "----------------------------------------------------------------\n",
            "Input size (MB): 0.01\n",
            "Forward/backward pass size (MB): 4.87\n",
            "Params size (MB): 0.75\n",
            "Estimated Total Size (MB): 5.64\n",
            "----------------------------------------------------------------\n"
          ]
        }
      ]
    },
    {
      "cell_type": "code",
      "source": [
        "# Training And Testing"
      ],
      "metadata": {
        "id": "NSgpCVul5ipH"
      },
      "execution_count": 11,
      "outputs": []
    },
    {
      "cell_type": "code",
      "source": [
        "from tqdm import tqdm\n",
        "\n",
        "train_losses = []\n",
        "test_losses = []\n",
        "train_acc = []\n",
        "test_acc = []\n",
        "\n",
        "def train(model, device, train_loader, optimizer, epoch):\n",
        "  model.train()\n",
        "  pbar = tqdm(train_loader)\n",
        "  correct = 0\n",
        "  processed = 0\n",
        "  for batch_idx, (data, target) in enumerate(pbar):\n",
        "    # get samples\n",
        "    data_aug, target = data['image'].to(device), target.to(device)\n",
        "\n",
        "    # Init\n",
        "    optimizer.zero_grad()\n",
        "    # In PyTorch, we need to set the gradients to zero before starting to do backpropragation because PyTorch accumulates the gradients on subsequent backward passes.\n",
        "    # Because of this, when you start your training loop, ideally you should zero out the gradients so that you do the parameter update correctly.\n",
        "\n",
        "    # Predict\n",
        "    y_pred = model(data_aug)\n",
        "\n",
        "    # Calculate loss\n",
        "    loss = F.nll_loss(y_pred, target)\n",
        "    train_losses.append(loss)\n",
        "\n",
        "    # Backpropagation\n",
        "    loss.backward()\n",
        "    optimizer.step()\n",
        "\n",
        "    # Update pbar-tqdm\n",
        "\n",
        "    pred = y_pred.argmax(dim=1, keepdim=True)  # get the index of the max log-probability\n",
        "    correct += pred.eq(target.view_as(pred)).sum().item()\n",
        "    processed += len(data_aug)\n",
        "\n",
        "    pbar.set_description(desc= f'Loss={loss.item()} Batch_id={batch_idx} Accuracy={100*correct/processed:0.2f}')\n",
        "    train_acc.append(100*correct/processed)\n",
        "\n",
        "\n",
        "def test(model, device, test_loader):\n",
        "    model.eval()\n",
        "    test_loss = 0\n",
        "    correct = 0\n",
        "    with torch.no_grad():\n",
        "        for data, target in test_loader:\n",
        "            data, target = data.to(device), target.to(device)\n",
        "            output = model(data)\n",
        "            test_loss += F.nll_loss(output, target, reduction='sum').item()  # sum up batch loss\n",
        "            pred = output.argmax(dim=1, keepdim=True)  # get the index of the max log-probability\n",
        "            correct += pred.eq(target.view_as(pred)).sum().item()\n",
        "\n",
        "    test_loss /= len(test_loader.dataset)\n",
        "\n",
        "    test_losses.append(test_loss)\n",
        "\n",
        "    print('\\nTest set: Average loss: {:.4f}, Accuracy: {}/{} ({:.2f}%)\\n'.format(\n",
        "        test_loss, correct, len(test_loader.dataset),\n",
        "        100. * correct / len(test_loader.dataset)))\n",
        "\n",
        "    test_acc.append(100. * correct / len(test_loader.dataset))\n",
        "    return test_loss\n"
      ],
      "metadata": {
        "id": "kDQmfgUqHiKm"
      },
      "execution_count": 40,
      "outputs": []
    },
    {
      "cell_type": "code",
      "source": [
        "#@title\n",
        "from torch.optim.lr_scheduler import StepLR,OneCycleLR\n",
        "model =  Model_CFAR().to(device)\n",
        "optimizer = optim.SGD(model.parameters(), lr=0.01, momentum=0.9)\n",
        "scheduler = StepLR(optimizer, step_size=15, gamma=0.1)\n",
        "#scheduler = OneCycleLR(optimizer, max_lr=0.01,steps_per_epoch=len(train_loader),epochs=80)\n",
        "EPOCHS = 50\n",
        "for epoch in range(EPOCHS):\n",
        "    print(\"EPOCH:\", epoch)\n",
        "    train(model, device, train_loader, optimizer, epoch)\n",
        "    scheduler.step()\n",
        "    test(model, device, test_loader)"
      ],
      "metadata": {
        "id": "8LF9EvbzMSXj"
      },
      "execution_count": null,
      "outputs": []
    },
    {
      "cell_type": "code",
      "source": [
        "\n",
        "# Wrong predictions\n",
        "cnt=0\n",
        "import random\n",
        "data, target = next(iter(test_loader))\n",
        "data, target = data.to(device), target.to(device)\n",
        "output = model(data)\n",
        "pred = output.argmax(dim=1, keepdim=True)\n",
        "img_lst=[]\n",
        "cat_lst=[]\n",
        "x_lst=[]\n",
        "for i in range(0,127):\n",
        "  x = random.randint(0,127)\n",
        "\n",
        "  if pred[x].item()!=target[x].item():\n",
        "    img=data[x].cpu().numpy().T\n",
        "    img_lst.append(img)\n",
        "    cat=[value for key,value in enumerate(train_data.class_to_idx) if key!=target[x].item()][0]\n",
        "    cat_lst.append(cat)\n",
        "    x_lst.append(x)\n",
        "    cnt+=1\n",
        "  if cnt>9:\n",
        "    break"
      ],
      "metadata": {
        "id": "Gpi6B__uNLSy"
      },
      "execution_count": 13,
      "outputs": []
    },
    {
      "cell_type": "code",
      "source": [
        "for i in range(10):\n",
        "  plt.subplot(5,2,i+1)\n",
        "  plt.tight_layout()\n",
        "  plt.imshow(img_lst[i])\n",
        "  plt.title(cat_lst[i])\n",
        "  plt.xticks([])\n",
        "  plt.yticks([])"
      ],
      "metadata": {
        "id": "G8HnUGgqu1H1",
        "colab": {
          "base_uri": "https://localhost:8080/",
          "height": 642
        },
        "outputId": "8bc41ee0-89f0-4c9e-a2f3-c334aab73293"
      },
      "execution_count": 14,
      "outputs": [
        {
          "output_type": "stream",
          "name": "stderr",
          "text": [
            "WARNING:matplotlib.image:Clipping input data to the valid range for imshow with RGB data ([0..1] for floats or [0..255] for integers).\n",
            "WARNING:matplotlib.image:Clipping input data to the valid range for imshow with RGB data ([0..1] for floats or [0..255] for integers).\n",
            "WARNING:matplotlib.image:Clipping input data to the valid range for imshow with RGB data ([0..1] for floats or [0..255] for integers).\n",
            "WARNING:matplotlib.image:Clipping input data to the valid range for imshow with RGB data ([0..1] for floats or [0..255] for integers).\n",
            "WARNING:matplotlib.image:Clipping input data to the valid range for imshow with RGB data ([0..1] for floats or [0..255] for integers).\n",
            "WARNING:matplotlib.image:Clipping input data to the valid range for imshow with RGB data ([0..1] for floats or [0..255] for integers).\n",
            "WARNING:matplotlib.image:Clipping input data to the valid range for imshow with RGB data ([0..1] for floats or [0..255] for integers).\n",
            "WARNING:matplotlib.image:Clipping input data to the valid range for imshow with RGB data ([0..1] for floats or [0..255] for integers).\n",
            "WARNING:matplotlib.image:Clipping input data to the valid range for imshow with RGB data ([0..1] for floats or [0..255] for integers).\n",
            "WARNING:matplotlib.image:Clipping input data to the valid range for imshow with RGB data ([0..1] for floats or [0..255] for integers).\n"
          ]
        },
        {
          "output_type": "display_data",
          "data": {
            "text/plain": [
              "<Figure size 640x480 with 10 Axes>"
            ],
            "image/png": "[encoded data removed]"
          },
          "metadata": {}
        }
      ]
    },
    {
      "cell_type": "code",
      "source": [],
      "metadata": {
        "id": "ItDFyJR_z68J"
      },
      "execution_count": 14,
      "outputs": []
    }
  ]
}