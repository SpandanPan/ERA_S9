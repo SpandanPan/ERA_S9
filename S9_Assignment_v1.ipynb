{
  "nbformat": 4,
  "nbformat_minor": 0,
  "metadata": {
    "colab": {
      "provenance": [],
      "gpuType": "T4"
    },
    "kernelspec": {
      "name": "python3",
      "display_name": "Python 3"
    },
    "accelerator": "GPU"
  },
  "cells": [
    {
      "cell_type": "markdown",
      "metadata": {
        "id": "aO-7t1Y7-hV4"
      },
      "source": [
        "# Import Libraries"
      ]
    },
    {
      "cell_type": "code",
      "metadata": {
        "id": "8kH16rnZ7wt_"
      },
      "source": [
        "from __future__ import print_function\n",
        "import torch\n",
        "import torch.nn as nn\n",
        "import torch.nn.functional as F\n",
        "import torch.optim as optim\n",
        "from torchvision import datasets,transforms\n",
        "#!pip install albumentations==0.4.6\n",
        "import albumentations as A\n",
        "from albumentations.pytorch import ToTensorV2\n",
        "import os\n",
        "os.environ['KMP_DUPLICATE_LIB_OK']='True'"
      ],
      "execution_count": 1,
      "outputs": []
    },
    {
      "cell_type": "markdown",
      "metadata": {
        "id": "ky3f_Odl-7um"
      },
      "source": [
        "## Data Transformations\n",
        "\n",
        "We first start with defining our data transformations. We need to think what our data is and how can we augment it to correct represent images which it might not see otherwise.\n"
      ]
    },
    {
      "cell_type": "code",
      "source": [
        "train_transforms = A.Compose([\n",
        "    #A.Resize(32, 32),\n",
        "    A.ShiftScaleRotate(shift_limit = 0.05, scale_limit = 0.05, rotate_limit = 15,p=0.4),\n",
        "    A.HorizontalFlip(),\n",
        "    A.ColorJitter (brightness=0.2, contrast=0.2, saturation=0.2, hue=0.2, always_apply=False, p=0.5),\n",
        "    A.CoarseDropout(max_holes=1, max_height=16, max_width=16, fill_value=0, mask_fill_value=None, always_apply=False, p=0.3),\n",
        "    A.Normalize (mean=[0.4914, 0.4822, 0.4465], std=[0.2023, 0.1994, 0.2010]),\n",
        "    ToTensorV2()\n",
        "])\n",
        "\n",
        "# Test Phase transformations\n",
        "test_transforms = A.Compose([\n",
        "                             ToTensorV2(),\n",
        "                             A.Normalize (mean=[0.4914, 0.4822, 0.4465], std=[0.2023, 0.1994, 0.2010])\n",
        "                                       ])\n",
        "\n",
        "test_transforms = transforms.Compose([\n",
        "                                      #  transforms.Resize((28, 28)),\n",
        "                                      #  transforms.ColorJitter(brightness=0.10, contrast=0.1, saturation=0.10, hue=0.1),\n",
        "                                       transforms.ToTensor(),\n",
        "                                       transforms.Normalize((0.4914, 0.4822, 0.4465), (0.2023, 0.1994, 0.2010)),\n",
        "                                       ])\n",
        "\n",
        "def apply_transform_train(image):\n",
        "    return train_transforms(image=np.array(image))\n",
        "\n",
        "def apply_transform_test(image):\n",
        "    return test_transforms(image=np.array(image))"
      ],
      "metadata": {
        "id": "39xchBPt7zMG"
      },
      "execution_count": 27,
      "outputs": []
    },
    {
      "cell_type": "markdown",
      "metadata": {
        "id": "oQciFYo2B1mO"
      },
      "source": [
        "# Dataset and Creating Train/Test Split"
      ]
    },
    {
      "cell_type": "code",
      "metadata": {
        "id": "_4A84rlfDA23",
        "colab": {
          "base_uri": "https://localhost:8080/"
        },
        "outputId": "7ac9402c-dd90-4f63-d097-fa1e0a7482bb"
      },
      "source": [
        "train_data = datasets.CIFAR10('./data', train=True, download=True, transform=apply_transform_train)\n",
        "test_data = datasets.CIFAR10('./data', train=False, download=True, transform=test_transforms)"
      ],
      "execution_count": 28,
      "outputs": [
        {
          "output_type": "stream",
          "name": "stdout",
          "text": [
            "Files already downloaded and verified\n",
            "Files already downloaded and verified\n"
          ]
        }
      ]
    },
    {
      "cell_type": "markdown",
      "metadata": {
        "id": "qgldp_3-Dn0c"
      },
      "source": [
        "# Dataloader Arguments & Test/Train Dataloaders\n"
      ]
    },
    {
      "cell_type": "code",
      "metadata": {
        "id": "C8OLDR79DrHG",
        "outputId": "ef859256-633a-47b2-a37d-fc15a965e8ba",
        "colab": {
          "base_uri": "https://localhost:8080/"
        }
      },
      "source": [
        "SEED = 2\n",
        "\n",
        "# CUDA?\n",
        "cuda = torch.cuda.is_available()\n",
        "print(\"CUDA Available?\", cuda)\n",
        "\n",
        "# For reproducibility\n",
        "torch.manual_seed(SEED)\n",
        "\n",
        "if cuda:\n",
        "    torch.cuda.manual_seed(SEED)\n",
        "\n",
        "# dataloader arguments - something you'll fetch these from cmdprmt\n",
        "args = dict(shuffle=True, batch_size=128, num_workers=4, pin_memory=True)\n",
        "\n",
        "# train dataloader\n",
        "train_loader = torch.utils.data.DataLoader(train_data,**args)\n",
        "\n",
        "# test dataloader\n",
        "test_loader = torch.utils.data.DataLoader(test_data, **args)"
      ],
      "execution_count": 29,
      "outputs": [
        {
          "output_type": "stream",
          "name": "stdout",
          "text": [
            "CUDA Available? True\n"
          ]
        }
      ]
    },
    {
      "cell_type": "code",
      "source": [
        "# Shape of the train data\n",
        "print (train_data.data.shape)\n",
        "# Shape of the test data\n",
        "print (test_data.data.shape)\n",
        "\n",
        "# Number of categories in the data\n",
        "print (len(train_data.classes))"
      ],
      "metadata": {
        "colab": {
          "base_uri": "https://localhost:8080/"
        },
        "id": "NDHC0_byQf2Y",
        "outputId": "cebff2cc-87f5-406a-8ec1-3795cc8ebe97"
      },
      "execution_count": 30,
      "outputs": [
        {
          "output_type": "stream",
          "name": "stdout",
          "text": [
            "(50000, 32, 32, 3)\n",
            "(10000, 32, 32, 3)\n",
            "10\n"
          ]
        }
      ]
    },
    {
      "cell_type": "code",
      "source": [
        "import matplotlib.pyplot as plt\n",
        "import numpy as np\n",
        "\n",
        "# functions to show an image\n",
        "\n",
        "\n",
        "def imshow(img):\n",
        "    img = img / 2 + 0.5     # unnormalize\n",
        "    npimg = img.numpy()\n",
        "    plt.imshow(np.transpose(npimg, (1, 2, 0)))\n",
        "    plt.show()\n",
        "\n",
        "\n",
        "# get some random training images\n",
        "dataiter = iter(train_loader)\n",
        "images, labels = next(dataiter)\n",
        "classes = ('plane', 'car', 'bird', 'cat',\n",
        "           'deer', 'dog', 'frog', 'horse', 'ship', 'truck')\n",
        "\n",
        "import torchvision\n",
        "# show images\n",
        "imshow(torchvision.utils.make_grid(images['image'][:4]))\n",
        "# print labels\n",
        "print(' '.join(f'{classes[labels[j]]:5s}' for j in range(4)))"
      ],
      "metadata": {
        "colab": {
          "base_uri": "https://localhost:8080/",
          "height": 229
        },
        "id": "_YtLrchAnz5K",
        "outputId": "c1eedb37-4d64-40a6-ac63-eda2cd356b49"
      },
      "execution_count": 31,
      "outputs": [
        {
          "output_type": "stream",
          "name": "stderr",
          "text": [
            "WARNING:matplotlib.image:Clipping input data to the valid range for imshow with RGB data ([0..1] for floats or [0..255] for integers).\n"
          ]
        },
        {
          "output_type": "display_data",
          "data": {
            "text/plain": [
              "<Figure size 640x480 with 1 Axes>"
            ],
            "image/png": "[encoded data removed]"
          },
          "metadata": {}
        },
        {
          "output_type": "stream",
          "name": "stdout",
          "text": [
            "ship  ship  bird  ship \n"
          ]
        }
      ]
    },
    {
      "cell_type": "code",
      "source": [
        "dropout_value = 0.1\n",
        "class Model_CFAR(nn.Module):\n",
        "    def __init__(self):\n",
        "        super(Model_CFAR, self).__init__()\n",
        "\n",
        "        # *******************************Conv Block 1*************************\n",
        "        # Block1-Layer1\n",
        "        self.convblk1_ly1 = nn.Sequential(\n",
        "            nn.Conv2d(in_channels=3, out_channels=64, kernel_size=(3, 3), padding=0, bias=False),\n",
        "            nn.ReLU(),\n",
        "            nn.BatchNorm2d(64),\n",
        "            nn.Dropout(dropout_value))\n",
        "\n",
        "        # Block1-Layer2\n",
        "        self.convblk1_ly2 = nn.Sequential(\n",
        "            nn.Conv2d(in_channels=64, out_channels=64, kernel_size=(3, 3), padding=3,  bias=False,dilation=3),\n",
        "            nn.ReLU(),\n",
        "            nn.BatchNorm2d(64),\n",
        "            nn.Dropout(dropout_value))\n",
        "\n",
        "        # Block1 - TB\n",
        "        self.convblk1_tb = nn.Sequential(\n",
        "            nn.Conv2d(in_channels=64, out_channels=20, kernel_size=(1, 1), padding=0, bias=False),\n",
        "            nn.Conv2d(in_channels=20, out_channels=20, kernel_size=(3, 3), padding=0,stride=2, bias=False),\n",
        "            nn.ReLU())\n",
        "        # ****************************Conv Block 2****************************\n",
        "        # Block 2 - Layer1\n",
        "        self.convblk2_ly1 = nn.Sequential(\n",
        "            nn.Conv2d(in_channels=20, out_channels=64, kernel_size=(3, 3), padding=0, bias=False),\n",
        "            nn.ReLU(),\n",
        "            nn.BatchNorm2d(64),\n",
        "            nn.Dropout(dropout_value))\n",
        "\n",
        "         #Block 2- Layer2\n",
        "        self.convblk2_ly2 = nn.Sequential(\n",
        "            nn.Conv2d(in_channels=64, out_channels=64, kernel_size=(3, 3), padding=2, bias=False,dilation=2),\n",
        "            nn.ReLU(),\n",
        "            nn.BatchNorm2d(64),\n",
        "            nn.Dropout(dropout_value))\n",
        "\n",
        "        # Block 2 - TB\n",
        "        self.convblk2_tb = nn.Sequential(\n",
        "            nn.Conv2d(in_channels=64, out_channels=20, kernel_size=(1, 1), padding=0, bias=False),\n",
        "            nn.Conv2d(in_channels=20, out_channels=20, kernel_size=(3, 3), padding=0,stride=2, bias=False),\n",
        "            nn.ReLU())\n",
        "        # ****************************Conv Block 3****************************\n",
        "        # Block 3 - Layer 1\n",
        "\n",
        "        self.convblk3_ly1 = nn.Sequential(\n",
        "            nn.Conv2d(in_channels=20, out_channels=64, kernel_size=(3, 3), padding=1, bias=False),\n",
        "            nn.ReLU(),\n",
        "            nn.BatchNorm2d(64),\n",
        "            nn.Dropout(dropout_value))\n",
        "\n",
        "        #Block 3 - Layer 2\n",
        "        self.convblk3_ly2 = nn.Sequential(\n",
        "            nn.Conv2d(in_channels=64, out_channels=64, kernel_size=(3, 3), padding=2, bias=False,dilation=2),\n",
        "            nn.ReLU(),\n",
        "            nn.BatchNorm2d(64),\n",
        "            nn.Dropout(dropout_value))\n",
        "\n",
        "        # Block 3- TB\n",
        "        self.convblk3_tb = nn.Sequential(\n",
        "            nn.Conv2d(in_channels=64, out_channels=20, kernel_size=(1, 1), padding=0, bias=False),\n",
        "            nn.Conv2d(in_channels=20, out_channels=20, kernel_size=(3, 3), padding=1,stride=2, bias=False),\n",
        "            nn.ReLU())\n",
        "        # ****************************Conv Block 4****************************\n",
        "        # Block 4 - Layer 1\n",
        "\n",
        "        self.convblk4_ly1 = nn.Sequential(\n",
        "            nn.Conv2d(in_channels=20, out_channels=32, kernel_size=(3, 3), padding=1, bias=False),\n",
        "            nn.ReLU(),\n",
        "            nn.BatchNorm2d(32),\n",
        "            nn.Dropout(dropout_value))\n",
        "\n",
        "        #Block 4 - Layer 2\n",
        "        self.convblk4_ly2 = nn.Sequential(\n",
        "            nn.Conv2d(in_channels=32, out_channels=32, kernel_size=(3, 3), padding=2, bias=False,dilation=2),\n",
        "            nn.ReLU(),\n",
        "            nn.BatchNorm2d(32),\n",
        "            nn.Dropout(dropout_value))\n",
        "\n",
        "        # Block 4- Layer 3\n",
        "        self.convblk4_ly3 = nn.Sequential(\n",
        "            nn.Conv2d(in_channels=32, out_channels=48, kernel_size=(3, 3), padding=0,stride=1, bias=False),\n",
        "            nn.ReLU(),\n",
        "            nn.BatchNorm2d(48))\n",
        "        #****************************Output Block*************************\n",
        "        # GAP Layer\n",
        "        self.gap = nn.AdaptiveAvgPool2d(1)\n",
        "\n",
        "       # FC Layer\n",
        "        self.fc = nn.Linear(48, 10,bias=False)\n",
        "\n",
        "    def forward(self, x):\n",
        "        x = self.convblk1_ly1(x)\n",
        "        x = x+self.convblk1_ly2(x)\n",
        "        x = self.convblk1_tb(x)\n",
        "        x = self.convblk2_ly1(x)\n",
        "        x = x+self.convblk2_ly2(x)\n",
        "        x = self.convblk2_tb(x)\n",
        "        x = self.convblk3_ly1(x)\n",
        "        x = x+self.convblk3_ly2(x)\n",
        "        x = self.convblk3_tb(x)\n",
        "        x = self.convblk4_ly1(x)\n",
        "        x = x+self.convblk4_ly2(x)\n",
        "        x = self.convblk4_ly3(x)\n",
        "        x = self.gap(x)\n",
        "        x = x.view(-1, 1*1*48)\n",
        "        x = self.fc(x)\n",
        "        x = x.view(-1, 10)\n",
        "        return F.log_softmax(x, dim=-1)"
      ],
      "metadata": {
        "id": "M9bmFEqftEeG"
      },
      "execution_count": 32,
      "outputs": []
    },
    {
      "cell_type": "code",
      "source": [
        "x = torch.randn(1,64,32,32)\n",
        "model=Model_CFAR()\n",
        "for layer in model.convblk1_ly2:\n",
        "  x = layer(x)\n",
        "  print (layer)\n",
        "  print(x.size())"
      ],
      "metadata": {
        "colab": {
          "base_uri": "https://localhost:8080/"
        },
        "id": "dUg_XGUSDnCR",
        "outputId": "7ffb3cfa-f14c-4347-ea48-412c435acf1c"
      },
      "execution_count": 33,
      "outputs": [
        {
          "output_type": "stream",
          "name": "stdout",
          "text": [
            "Conv2d(64, 64, kernel_size=(3, 3), stride=(1, 1), padding=(3, 3), dilation=(3, 3), bias=False)\n",
            "torch.Size([1, 64, 32, 32])\n",
            "ReLU()\n",
            "torch.Size([1, 64, 32, 32])\n",
            "BatchNorm2d(64, eps=1e-05, momentum=0.1, affine=True, track_running_stats=True)\n",
            "torch.Size([1, 64, 32, 32])\n",
            "Dropout(p=0.1, inplace=False)\n",
            "torch.Size([1, 64, 32, 32])\n"
          ]
        }
      ]
    },
    {
      "cell_type": "code",
      "source": [
        "# Model Summary\n",
        "!pip install torchsummary\n",
        "from torchsummary import summary\n",
        "use_cuda = torch.cuda.is_available()\n",
        "device = torch.device(\"cuda\" if use_cuda else \"cpu\")\n",
        "print(device)\n",
        "model = Model_CFAR().to(device)\n",
        "summary(model, input_size=(3, 32, 32))"
      ],
      "metadata": {
        "colab": {
          "base_uri": "https://localhost:8080/"
        },
        "id": "YRS1__Dt4SBw",
        "outputId": "df08d6b9-1c8c-4412-eec5-10cdac2460b3"
      },
      "execution_count": 34,
      "outputs": [
        {
          "output_type": "stream",
          "name": "stdout",
          "text": [
            "Requirement already satisfied: torchsummary in /usr/local/lib/python3.10/dist-packages (1.5.1)\n",
            "cuda\n",
            "----------------------------------------------------------------\n",
            "        Layer (type)               Output Shape         Param #\n",
            "================================================================\n",
            "            Conv2d-1           [-1, 64, 30, 30]           1,728\n",
            "              ReLU-2           [-1, 64, 30, 30]               0\n",
            "       BatchNorm2d-3           [-1, 64, 30, 30]             128\n",
            "           Dropout-4           [-1, 64, 30, 30]               0\n",
            "            Conv2d-5           [-1, 64, 30, 30]          36,864\n",
            "              ReLU-6           [-1, 64, 30, 30]               0\n",
            "       BatchNorm2d-7           [-1, 64, 30, 30]             128\n",
            "           Dropout-8           [-1, 64, 30, 30]               0\n",
            "            Conv2d-9           [-1, 20, 30, 30]           1,280\n",
            "           Conv2d-10           [-1, 20, 14, 14]           3,600\n",
            "             ReLU-11           [-1, 20, 14, 14]               0\n",
            "           Conv2d-12           [-1, 64, 12, 12]          11,520\n",
            "             ReLU-13           [-1, 64, 12, 12]               0\n",
            "      BatchNorm2d-14           [-1, 64, 12, 12]             128\n",
            "          Dropout-15           [-1, 64, 12, 12]               0\n",
            "           Conv2d-16           [-1, 64, 12, 12]          36,864\n",
            "             ReLU-17           [-1, 64, 12, 12]               0\n",
            "      BatchNorm2d-18           [-1, 64, 12, 12]             128\n",
            "          Dropout-19           [-1, 64, 12, 12]               0\n",
            "           Conv2d-20           [-1, 20, 12, 12]           1,280\n",
            "           Conv2d-21             [-1, 20, 5, 5]           3,600\n",
            "             ReLU-22             [-1, 20, 5, 5]               0\n",
            "           Conv2d-23             [-1, 64, 5, 5]          11,520\n",
            "             ReLU-24             [-1, 64, 5, 5]               0\n",
            "      BatchNorm2d-25             [-1, 64, 5, 5]             128\n",
            "          Dropout-26             [-1, 64, 5, 5]               0\n",
            "           Conv2d-27             [-1, 64, 5, 5]          36,864\n",
            "             ReLU-28             [-1, 64, 5, 5]               0\n",
            "      BatchNorm2d-29             [-1, 64, 5, 5]             128\n",
            "          Dropout-30             [-1, 64, 5, 5]               0\n",
            "           Conv2d-31             [-1, 20, 5, 5]           1,280\n",
            "           Conv2d-32             [-1, 20, 3, 3]           3,600\n",
            "             ReLU-33             [-1, 20, 3, 3]               0\n",
            "           Conv2d-34             [-1, 32, 3, 3]           5,760\n",
            "             ReLU-35             [-1, 32, 3, 3]               0\n",
            "      BatchNorm2d-36             [-1, 32, 3, 3]              64\n",
            "          Dropout-37             [-1, 32, 3, 3]               0\n",
            "           Conv2d-38             [-1, 32, 3, 3]           9,216\n",
            "             ReLU-39             [-1, 32, 3, 3]               0\n",
            "      BatchNorm2d-40             [-1, 32, 3, 3]              64\n",
            "          Dropout-41             [-1, 32, 3, 3]               0\n",
            "           Conv2d-42             [-1, 48, 1, 1]          13,824\n",
            "             ReLU-43             [-1, 48, 1, 1]               0\n",
            "      BatchNorm2d-44             [-1, 48, 1, 1]              96\n",
            "AdaptiveAvgPool2d-45             [-1, 48, 1, 1]               0\n",
            "           Linear-46                   [-1, 10]             480\n",
            "================================================================\n",
            "Total params: 180,272\n",
            "Trainable params: 180,272\n",
            "Non-trainable params: 0\n",
            "----------------------------------------------------------------\n",
            "Input size (MB): 0.01\n",
            "Forward/backward pass size (MB): 4.43\n",
            "Params size (MB): 0.69\n",
            "Estimated Total Size (MB): 5.13\n",
            "----------------------------------------------------------------\n"
          ]
        }
      ]
    },
    {
      "cell_type": "code",
      "source": [
        "# Training And Testing"
      ],
      "metadata": {
        "id": "NSgpCVul5ipH"
      },
      "execution_count": 35,
      "outputs": []
    },
    {
      "cell_type": "code",
      "source": [
        "from tqdm import tqdm\n",
        "\n",
        "train_losses = []\n",
        "test_losses = []\n",
        "train_acc = []\n",
        "test_acc = []\n",
        "\n",
        "def train(model, device, train_loader, optimizer, epoch):\n",
        "  model.train()\n",
        "  pbar = tqdm(train_loader)\n",
        "  correct = 0\n",
        "  processed = 0\n",
        "  for batch_idx, (data, target) in enumerate(pbar):\n",
        "    # get samples\n",
        "    data_aug, target = data['image'].to(device), target.to(device)\n",
        "\n",
        "    # Init\n",
        "    optimizer.zero_grad()\n",
        "    # In PyTorch, we need to set the gradients to zero before starting to do backpropragation because PyTorch accumulates the gradients on subsequent backward passes.\n",
        "    # Because of this, when you start your training loop, ideally you should zero out the gradients so that you do the parameter update correctly.\n",
        "\n",
        "    # Predict\n",
        "    y_pred = model(data_aug)\n",
        "\n",
        "    # Calculate loss\n",
        "    loss = F.nll_loss(y_pred, target)\n",
        "    train_losses.append(loss)\n",
        "\n",
        "    # Backpropagation\n",
        "    loss.backward()\n",
        "    optimizer.step()\n",
        "\n",
        "    # Update pbar-tqdm\n",
        "\n",
        "    pred = y_pred.argmax(dim=1, keepdim=True)  # get the index of the max log-probability\n",
        "    correct += pred.eq(target.view_as(pred)).sum().item()\n",
        "    processed += len(data_aug)\n",
        "\n",
        "    pbar.set_description(desc= f'Loss={loss.item()} Batch_id={batch_idx} Accuracy={100*correct/processed:0.2f}')\n",
        "    train_acc.append(100*correct/processed)\n",
        "\n",
        "\n",
        "def test(model, device, test_loader):\n",
        "    model.eval()\n",
        "    test_loss = 0\n",
        "    correct = 0\n",
        "    with torch.no_grad():\n",
        "        for data, target in test_loader:\n",
        "            data, target = data.to(device), target.to(device)\n",
        "            output = model(data)\n",
        "            test_loss += F.nll_loss(output, target, reduction='sum').item()  # sum up batch loss\n",
        "            pred = output.argmax(dim=1, keepdim=True)  # get the index of the max log-probability\n",
        "            correct += pred.eq(target.view_as(pred)).sum().item()\n",
        "\n",
        "    test_loss /= len(test_loader.dataset)\n",
        "\n",
        "    test_losses.append(test_loss)\n",
        "\n",
        "    print('\\nTest set: Average loss: {:.4f}, Accuracy: {}/{} ({:.2f}%)\\n'.format(\n",
        "        test_loss, correct, len(test_loader.dataset),\n",
        "        100. * correct / len(test_loader.dataset)))\n",
        "\n",
        "    test_acc.append(100. * correct / len(test_loader.dataset))\n",
        "    return test_loss\n"
      ],
      "metadata": {
        "id": "kDQmfgUqHiKm"
      },
      "execution_count": 36,
      "outputs": []
    },
    {
      "cell_type": "code",
      "source": [
        "from torch.optim.lr_scheduler import StepLR\n",
        "model =  Model_CFAR().to(device)\n",
        "optimizer = optim.SGD(model.parameters(), lr=0.01, momentum=0.9)\n",
        "scheduler = StepLR(optimizer, step_size=20, gamma=0.1)\n",
        "EPOCHS = 50\n",
        "for epoch in range(EPOCHS):\n",
        "    print(\"EPOCH:\", epoch)\n",
        "    train(model, device, train_loader, optimizer, epoch)\n",
        "    scheduler.step()\n",
        "    test(model, device, test_loader)"
      ],
      "metadata": {
        "colab": {
          "base_uri": "https://localhost:8080/"
        },
        "id": "8LF9EvbzMSXj",
        "outputId": "dc4e408d-98b6-4815-e6b4-2f29c68e2cc0"
      },
      "execution_count": 37,
      "outputs": [
        {
          "metadata": {
            "tags": null
          },
          "name": "stdout",
          "output_type": "stream",
          "text": [
            "EPOCH: 0\n"
          ]
        },
        {
          "metadata": {
            "tags": null
          },
          "name": "stderr",
          "output_type": "stream",
          "text": [
            "Loss=1.6920554637908936 Batch_id=390 Accuracy=32.09: 100%|██████████| 391/391 [00:38<00:00, 10.21it/s]\n"
          ]
        },
        {
          "metadata": {
            "tags": null
          },
          "name": "stdout",
          "output_type": "stream",
          "text": [
            "\n",
            "Test set: Average loss: 1.4869, Accuracy: 4511/10000 (45.11%)\n",
            "\n",
            "EPOCH: 1\n"
          ]
        },
        {
          "metadata": {
            "tags": null
          },
          "name": "stderr",
          "output_type": "stream",
          "text": [
            "Loss=1.506892204284668 Batch_id=390 Accuracy=42.76: 100%|██████████| 391/391 [00:29<00:00, 13.04it/s]\n"
          ]
        },
        {
          "metadata": {
            "tags": null
          },
          "name": "stdout",
          "output_type": "stream",
          "text": [
            "\n",
            "Test set: Average loss: 1.3672, Accuracy: 4951/10000 (49.51%)\n",
            "\n",
            "EPOCH: 2\n"
          ]
        },
        {
          "metadata": {
            "tags": null
          },
          "name": "stderr",
          "output_type": "stream",
          "text": [
            "Loss=1.430444359779358 Batch_id=390 Accuracy=47.69: 100%|██████████| 391/391 [00:28<00:00, 13.52it/s]\n"
          ]
        },
        {
          "metadata": {
            "tags": null
          },
          "name": "stdout",
          "output_type": "stream",
          "text": [
            "\n",
            "Test set: Average loss: 1.2617, Accuracy: 5396/10000 (53.96%)\n",
            "\n",
            "EPOCH: 3\n"
          ]
        },
        {
          "metadata": {
            "tags": null
          },
          "name": "stderr",
          "output_type": "stream",
          "text": [
            "Loss=1.3354305028915405 Batch_id=390 Accuracy=51.48: 100%|██████████| 391/391 [00:30<00:00, 12.87it/s]\n"
          ]
        },
        {
          "metadata": {
            "tags": null
          },
          "name": "stdout",
          "output_type": "stream",
          "text": [
            "\n",
            "Test set: Average loss: 1.1190, Accuracy: 5970/10000 (59.70%)\n",
            "\n",
            "EPOCH: 4\n"
          ]
        },
        {
          "metadata": {
            "tags": null
          },
          "name": "stderr",
          "output_type": "stream",
          "text": [
            "Loss=1.336233139038086 Batch_id=390 Accuracy=54.41: 100%|██████████| 391/391 [00:28<00:00, 13.73it/s]\n"
          ]
        },
        {
          "metadata": {
            "tags": null
          },
          "name": "stdout",
          "output_type": "stream",
          "text": [
            "\n",
            "Test set: Average loss: 1.0766, Accuracy: 6170/10000 (61.70%)\n",
            "\n",
            "EPOCH: 5\n"
          ]
        },
        {
          "metadata": {
            "tags": null
          },
          "name": "stderr",
          "output_type": "stream",
          "text": [
            "Loss=1.2368556261062622 Batch_id=390 Accuracy=56.83: 100%|██████████| 391/391 [00:27<00:00, 14.04it/s]\n"
          ]
        },
        {
          "metadata": {
            "tags": null
          },
          "name": "stdout",
          "output_type": "stream",
          "text": [
            "\n",
            "Test set: Average loss: 1.0989, Accuracy: 6134/10000 (61.34%)\n",
            "\n",
            "EPOCH: 6\n"
          ]
        },
        {
          "metadata": {
            "tags": null
          },
          "name": "stderr",
          "output_type": "stream",
          "text": [
            "Loss=1.259250521659851 Batch_id=390 Accuracy=59.16: 100%|██████████| 391/391 [00:27<00:00, 14.14it/s]\n"
          ]
        },
        {
          "metadata": {
            "tags": null
          },
          "name": "stdout",
          "output_type": "stream",
          "text": [
            "\n",
            "Test set: Average loss: 0.9266, Accuracy: 6740/10000 (67.40%)\n",
            "\n",
            "EPOCH: 7\n"
          ]
        },
        {
          "metadata": {
            "tags": null
          },
          "name": "stderr",
          "output_type": "stream",
          "text": [
            "Loss=1.2664802074432373 Batch_id=390 Accuracy=60.84: 100%|██████████| 391/391 [00:27<00:00, 14.21it/s]\n"
          ]
        },
        {
          "metadata": {
            "tags": null
          },
          "name": "stdout",
          "output_type": "stream",
          "text": [
            "\n",
            "Test set: Average loss: 0.9028, Accuracy: 6850/10000 (68.50%)\n",
            "\n",
            "EPOCH: 8\n"
          ]
        },
        {
          "metadata": {
            "tags": null
          },
          "name": "stderr",
          "output_type": "stream",
          "text": [
            "Loss=0.9217222929000854 Batch_id=390 Accuracy=62.45: 100%|██████████| 391/391 [00:26<00:00, 14.91it/s]\n"
          ]
        },
        {
          "metadata": {
            "tags": null
          },
          "name": "stdout",
          "output_type": "stream",
          "text": [
            "\n",
            "Test set: Average loss: 0.8750, Accuracy: 6926/10000 (69.26%)\n",
            "\n",
            "EPOCH: 9\n"
          ]
        },
        {
          "output_type": "stream",
          "name": "stderr",
          "text": [
            "Loss=0.950783908367157 Batch_id=390 Accuracy=63.73: 100%|██████████| 391/391 [00:27<00:00, 14.32it/s]\n"
          ]
        },
        {
          "output_type": "stream",
          "name": "stdout",
          "text": [
            "\n",
            "Test set: Average loss: 0.8368, Accuracy: 7059/10000 (70.59%)\n",
            "\n",
            "EPOCH: 10\n"
          ]
        },
        {
          "output_type": "stream",
          "name": "stderr",
          "text": [
            "Loss=1.1343295574188232 Batch_id=390 Accuracy=65.14: 100%|██████████| 391/391 [00:28<00:00, 13.81it/s]\n"
          ]
        },
        {
          "output_type": "stream",
          "name": "stdout",
          "text": [
            "\n",
            "Test set: Average loss: 0.7701, Accuracy: 7288/10000 (72.88%)\n",
            "\n",
            "EPOCH: 11\n"
          ]
        },
        {
          "output_type": "stream",
          "name": "stderr",
          "text": [
            "Loss=0.9319857358932495 Batch_id=390 Accuracy=66.05: 100%|██████████| 391/391 [00:28<00:00, 13.67it/s]\n"
          ]
        },
        {
          "output_type": "stream",
          "name": "stdout",
          "text": [
            "\n",
            "Test set: Average loss: 0.7876, Accuracy: 7273/10000 (72.73%)\n",
            "\n",
            "EPOCH: 12\n"
          ]
        },
        {
          "output_type": "stream",
          "name": "stderr",
          "text": [
            "Loss=0.9371014833450317 Batch_id=390 Accuracy=67.06: 100%|██████████| 391/391 [00:27<00:00, 14.21it/s]\n"
          ]
        },
        {
          "output_type": "stream",
          "name": "stdout",
          "text": [
            "\n",
            "Test set: Average loss: 0.7636, Accuracy: 7371/10000 (73.71%)\n",
            "\n",
            "EPOCH: 13\n"
          ]
        },
        {
          "output_type": "stream",
          "name": "stderr",
          "text": [
            "Loss=0.6302847266197205 Batch_id=390 Accuracy=68.06: 100%|██████████| 391/391 [00:29<00:00, 13.46it/s]\n"
          ]
        },
        {
          "output_type": "stream",
          "name": "stdout",
          "text": [
            "\n",
            "Test set: Average loss: 0.7386, Accuracy: 7406/10000 (74.06%)\n",
            "\n",
            "EPOCH: 14\n"
          ]
        },
        {
          "output_type": "stream",
          "name": "stderr",
          "text": [
            "Loss=0.9584828615188599 Batch_id=390 Accuracy=68.54: 100%|██████████| 391/391 [00:27<00:00, 14.12it/s]\n"
          ]
        },
        {
          "output_type": "stream",
          "name": "stdout",
          "text": [
            "\n",
            "Test set: Average loss: 0.7351, Accuracy: 7432/10000 (74.32%)\n",
            "\n",
            "EPOCH: 15\n"
          ]
        },
        {
          "output_type": "stream",
          "name": "stderr",
          "text": [
            "Loss=0.7785202860832214 Batch_id=390 Accuracy=69.20: 100%|██████████| 391/391 [00:28<00:00, 13.71it/s]\n"
          ]
        },
        {
          "output_type": "stream",
          "name": "stdout",
          "text": [
            "\n",
            "Test set: Average loss: 0.6854, Accuracy: 7620/10000 (76.20%)\n",
            "\n",
            "EPOCH: 16\n"
          ]
        },
        {
          "output_type": "stream",
          "name": "stderr",
          "text": [
            "Loss=1.045302152633667 Batch_id=390 Accuracy=70.12: 100%|██████████| 391/391 [00:29<00:00, 13.39it/s]\n"
          ]
        },
        {
          "output_type": "stream",
          "name": "stdout",
          "text": [
            "\n",
            "Test set: Average loss: 0.6766, Accuracy: 7670/10000 (76.70%)\n",
            "\n",
            "EPOCH: 17\n"
          ]
        },
        {
          "output_type": "stream",
          "name": "stderr",
          "text": [
            "Loss=0.9212864637374878 Batch_id=390 Accuracy=70.48: 100%|██████████| 391/391 [00:27<00:00, 14.13it/s]\n"
          ]
        },
        {
          "output_type": "stream",
          "name": "stdout",
          "text": [
            "\n",
            "Test set: Average loss: 0.7058, Accuracy: 7512/10000 (75.12%)\n",
            "\n",
            "EPOCH: 18\n"
          ]
        },
        {
          "output_type": "stream",
          "name": "stderr",
          "text": [
            "Loss=1.0360780954360962 Batch_id=390 Accuracy=71.71: 100%|██████████| 391/391 [00:26<00:00, 14.54it/s]\n"
          ]
        },
        {
          "output_type": "stream",
          "name": "stdout",
          "text": [
            "\n",
            "Test set: Average loss: 0.7125, Accuracy: 7566/10000 (75.66%)\n",
            "\n",
            "EPOCH: 19\n"
          ]
        },
        {
          "output_type": "stream",
          "name": "stderr",
          "text": [
            "Loss=0.897540271282196 Batch_id=390 Accuracy=71.53: 100%|██████████| 391/391 [00:26<00:00, 14.81it/s]\n"
          ]
        },
        {
          "output_type": "stream",
          "name": "stdout",
          "text": [
            "\n",
            "Test set: Average loss: 0.6346, Accuracy: 7786/10000 (77.86%)\n",
            "\n",
            "EPOCH: 20\n"
          ]
        },
        {
          "output_type": "stream",
          "name": "stderr",
          "text": [
            "Loss=0.7317417860031128 Batch_id=390 Accuracy=73.81: 100%|██████████| 391/391 [00:26<00:00, 15.04it/s]\n"
          ]
        },
        {
          "output_type": "stream",
          "name": "stdout",
          "text": [
            "\n",
            "Test set: Average loss: 0.5861, Accuracy: 7981/10000 (79.81%)\n",
            "\n",
            "EPOCH: 21\n"
          ]
        },
        {
          "output_type": "stream",
          "name": "stderr",
          "text": [
            "Loss=0.8856317400932312 Batch_id=390 Accuracy=74.69: 100%|██████████| 391/391 [00:26<00:00, 14.97it/s]\n"
          ]
        },
        {
          "output_type": "stream",
          "name": "stdout",
          "text": [
            "\n",
            "Test set: Average loss: 0.5750, Accuracy: 8015/10000 (80.15%)\n",
            "\n",
            "EPOCH: 22\n"
          ]
        },
        {
          "output_type": "stream",
          "name": "stderr",
          "text": [
            "Loss=0.8812839388847351 Batch_id=390 Accuracy=75.04: 100%|██████████| 391/391 [00:25<00:00, 15.24it/s]\n"
          ]
        },
        {
          "output_type": "stream",
          "name": "stdout",
          "text": [
            "\n",
            "Test set: Average loss: 0.5744, Accuracy: 8027/10000 (80.27%)\n",
            "\n",
            "EPOCH: 23\n"
          ]
        },
        {
          "output_type": "stream",
          "name": "stderr",
          "text": [
            "Loss=0.4885329306125641 Batch_id=390 Accuracy=75.00: 100%|██████████| 391/391 [00:25<00:00, 15.54it/s]\n"
          ]
        },
        {
          "output_type": "stream",
          "name": "stdout",
          "text": [
            "\n",
            "Test set: Average loss: 0.5708, Accuracy: 8044/10000 (80.44%)\n",
            "\n",
            "EPOCH: 24\n"
          ]
        },
        {
          "output_type": "stream",
          "name": "stderr",
          "text": [
            "Loss=0.6977364420890808 Batch_id=390 Accuracy=75.13: 100%|██████████| 391/391 [00:25<00:00, 15.16it/s]\n"
          ]
        },
        {
          "output_type": "stream",
          "name": "stdout",
          "text": [
            "\n",
            "Test set: Average loss: 0.5638, Accuracy: 8082/10000 (80.82%)\n",
            "\n",
            "EPOCH: 25\n"
          ]
        },
        {
          "output_type": "stream",
          "name": "stderr",
          "text": [
            "Loss=0.6586285829544067 Batch_id=390 Accuracy=75.28: 100%|██████████| 391/391 [00:26<00:00, 14.55it/s]\n"
          ]
        },
        {
          "output_type": "stream",
          "name": "stdout",
          "text": [
            "\n",
            "Test set: Average loss: 0.5628, Accuracy: 8070/10000 (80.70%)\n",
            "\n",
            "EPOCH: 26\n"
          ]
        },
        {
          "output_type": "stream",
          "name": "stderr",
          "text": [
            "Loss=0.710759699344635 Batch_id=390 Accuracy=75.67: 100%|██████████| 391/391 [00:25<00:00, 15.34it/s]\n"
          ]
        },
        {
          "output_type": "stream",
          "name": "stdout",
          "text": [
            "\n",
            "Test set: Average loss: 0.5583, Accuracy: 8095/10000 (80.95%)\n",
            "\n",
            "EPOCH: 27\n"
          ]
        },
        {
          "output_type": "stream",
          "name": "stderr",
          "text": [
            "Loss=0.7530580163002014 Batch_id=390 Accuracy=75.65: 100%|██████████| 391/391 [00:25<00:00, 15.12it/s]\n"
          ]
        },
        {
          "output_type": "stream",
          "name": "stdout",
          "text": [
            "\n",
            "Test set: Average loss: 0.5590, Accuracy: 8073/10000 (80.73%)\n",
            "\n",
            "EPOCH: 28\n"
          ]
        },
        {
          "output_type": "stream",
          "name": "stderr",
          "text": [
            "Loss=0.7768410444259644 Batch_id=390 Accuracy=75.59: 100%|██████████| 391/391 [00:26<00:00, 14.85it/s]\n"
          ]
        },
        {
          "output_type": "stream",
          "name": "stdout",
          "text": [
            "\n",
            "Test set: Average loss: 0.5568, Accuracy: 8084/10000 (80.84%)\n",
            "\n",
            "EPOCH: 29\n"
          ]
        },
        {
          "output_type": "stream",
          "name": "stderr",
          "text": [
            "Loss=0.5932052135467529 Batch_id=390 Accuracy=75.52: 100%|██████████| 391/391 [00:25<00:00, 15.18it/s]\n"
          ]
        },
        {
          "output_type": "stream",
          "name": "stdout",
          "text": [
            "\n",
            "Test set: Average loss: 0.5590, Accuracy: 8083/10000 (80.83%)\n",
            "\n",
            "EPOCH: 30\n"
          ]
        },
        {
          "output_type": "stream",
          "name": "stderr",
          "text": [
            "Loss=0.7248592972755432 Batch_id=390 Accuracy=75.68: 100%|██████████| 391/391 [00:25<00:00, 15.20it/s]\n"
          ]
        },
        {
          "output_type": "stream",
          "name": "stdout",
          "text": [
            "\n",
            "Test set: Average loss: 0.5566, Accuracy: 8090/10000 (80.90%)\n",
            "\n",
            "EPOCH: 31\n"
          ]
        },
        {
          "output_type": "stream",
          "name": "stderr",
          "text": [
            "Loss=0.6748847961425781 Batch_id=390 Accuracy=76.28: 100%|██████████| 391/391 [00:25<00:00, 15.14it/s]\n"
          ]
        },
        {
          "output_type": "stream",
          "name": "stdout",
          "text": [
            "\n",
            "Test set: Average loss: 0.5482, Accuracy: 8082/10000 (80.82%)\n",
            "\n",
            "EPOCH: 32\n"
          ]
        },
        {
          "output_type": "stream",
          "name": "stderr",
          "text": [
            "Loss=0.8383787274360657 Batch_id=390 Accuracy=76.23: 100%|██████████| 391/391 [00:26<00:00, 14.97it/s]\n"
          ]
        },
        {
          "output_type": "stream",
          "name": "stdout",
          "text": [
            "\n",
            "Test set: Average loss: 0.5481, Accuracy: 8111/10000 (81.11%)\n",
            "\n",
            "EPOCH: 33\n"
          ]
        },
        {
          "output_type": "stream",
          "name": "stderr",
          "text": [
            "Loss=0.6877790093421936 Batch_id=390 Accuracy=76.01: 100%|██████████| 391/391 [00:26<00:00, 15.00it/s]\n"
          ]
        },
        {
          "output_type": "stream",
          "name": "stdout",
          "text": [
            "\n",
            "Test set: Average loss: 0.5488, Accuracy: 8111/10000 (81.11%)\n",
            "\n",
            "EPOCH: 34\n"
          ]
        },
        {
          "output_type": "stream",
          "name": "stderr",
          "text": [
            "Loss=0.7319894433021545 Batch_id=390 Accuracy=76.25: 100%|██████████| 391/391 [00:26<00:00, 14.54it/s]\n"
          ]
        },
        {
          "output_type": "stream",
          "name": "stdout",
          "text": [
            "\n",
            "Test set: Average loss: 0.5498, Accuracy: 8101/10000 (81.01%)\n",
            "\n",
            "EPOCH: 35\n"
          ]
        },
        {
          "output_type": "stream",
          "name": "stderr",
          "text": [
            "Loss=0.81739741563797 Batch_id=390 Accuracy=76.51: 100%|██████████| 391/391 [00:26<00:00, 14.72it/s]\n"
          ]
        },
        {
          "output_type": "stream",
          "name": "stdout",
          "text": [
            "\n",
            "Test set: Average loss: 0.5487, Accuracy: 8111/10000 (81.11%)\n",
            "\n",
            "EPOCH: 36\n"
          ]
        },
        {
          "output_type": "stream",
          "name": "stderr",
          "text": [
            "Loss=0.6639783978462219 Batch_id=390 Accuracy=76.45: 100%|██████████| 391/391 [00:27<00:00, 14.45it/s]\n"
          ]
        },
        {
          "output_type": "stream",
          "name": "stdout",
          "text": [
            "\n",
            "Test set: Average loss: 0.5447, Accuracy: 8129/10000 (81.29%)\n",
            "\n",
            "EPOCH: 37\n"
          ]
        },
        {
          "output_type": "stream",
          "name": "stderr",
          "text": [
            "Loss=0.7978916168212891 Batch_id=390 Accuracy=76.37: 100%|██████████| 391/391 [00:27<00:00, 14.22it/s]\n"
          ]
        },
        {
          "output_type": "stream",
          "name": "stdout",
          "text": [
            "\n",
            "Test set: Average loss: 0.5457, Accuracy: 8144/10000 (81.44%)\n",
            "\n",
            "EPOCH: 38\n"
          ]
        },
        {
          "output_type": "stream",
          "name": "stderr",
          "text": [
            "Loss=0.5832236409187317 Batch_id=390 Accuracy=76.58: 100%|██████████| 391/391 [00:27<00:00, 14.22it/s]\n"
          ]
        },
        {
          "output_type": "stream",
          "name": "stdout",
          "text": [
            "\n",
            "Test set: Average loss: 0.5398, Accuracy: 8148/10000 (81.48%)\n",
            "\n",
            "EPOCH: 39\n"
          ]
        },
        {
          "output_type": "stream",
          "name": "stderr",
          "text": [
            "Loss=0.6267361640930176 Batch_id=390 Accuracy=76.47: 100%|██████████| 391/391 [00:26<00:00, 14.83it/s]\n"
          ]
        },
        {
          "output_type": "stream",
          "name": "stdout",
          "text": [
            "\n",
            "Test set: Average loss: 0.5453, Accuracy: 8140/10000 (81.40%)\n",
            "\n",
            "EPOCH: 40\n"
          ]
        },
        {
          "output_type": "stream",
          "name": "stderr",
          "text": [
            "Loss=0.5400607585906982 Batch_id=390 Accuracy=76.87: 100%|██████████| 391/391 [00:26<00:00, 14.72it/s]\n"
          ]
        },
        {
          "output_type": "stream",
          "name": "stdout",
          "text": [
            "\n",
            "Test set: Average loss: 0.5358, Accuracy: 8157/10000 (81.57%)\n",
            "\n",
            "EPOCH: 41\n"
          ]
        },
        {
          "output_type": "stream",
          "name": "stderr",
          "text": [
            "Loss=0.5935578346252441 Batch_id=390 Accuracy=76.90: 100%|██████████| 391/391 [00:26<00:00, 14.75it/s]\n"
          ]
        },
        {
          "output_type": "stream",
          "name": "stdout",
          "text": [
            "\n",
            "Test set: Average loss: 0.5365, Accuracy: 8176/10000 (81.76%)\n",
            "\n",
            "EPOCH: 42\n"
          ]
        },
        {
          "output_type": "stream",
          "name": "stderr",
          "text": [
            "Loss=0.7148352861404419 Batch_id=390 Accuracy=76.96: 100%|██████████| 391/391 [00:26<00:00, 14.57it/s]\n"
          ]
        },
        {
          "output_type": "stream",
          "name": "stdout",
          "text": [
            "\n",
            "Test set: Average loss: 0.5333, Accuracy: 8184/10000 (81.84%)\n",
            "\n",
            "EPOCH: 43\n"
          ]
        },
        {
          "output_type": "stream",
          "name": "stderr",
          "text": [
            "Loss=0.7254691123962402 Batch_id=390 Accuracy=77.02: 100%|██████████| 391/391 [00:26<00:00, 14.61it/s]\n"
          ]
        },
        {
          "output_type": "stream",
          "name": "stdout",
          "text": [
            "\n",
            "Test set: Average loss: 0.5336, Accuracy: 8191/10000 (81.91%)\n",
            "\n",
            "EPOCH: 44\n"
          ]
        },
        {
          "output_type": "stream",
          "name": "stderr",
          "text": [
            "Loss=0.8565025329589844 Batch_id=390 Accuracy=76.92: 100%|██████████| 391/391 [00:27<00:00, 14.01it/s]\n"
          ]
        },
        {
          "output_type": "stream",
          "name": "stdout",
          "text": [
            "\n",
            "Test set: Average loss: 0.5332, Accuracy: 8193/10000 (81.93%)\n",
            "\n",
            "EPOCH: 45\n"
          ]
        },
        {
          "output_type": "stream",
          "name": "stderr",
          "text": [
            "Loss=0.780258297920227 Batch_id=390 Accuracy=76.65: 100%|██████████| 391/391 [00:26<00:00, 14.68it/s]\n"
          ]
        },
        {
          "output_type": "stream",
          "name": "stdout",
          "text": [
            "\n",
            "Test set: Average loss: 0.5364, Accuracy: 8179/10000 (81.79%)\n",
            "\n",
            "EPOCH: 46\n"
          ]
        },
        {
          "output_type": "stream",
          "name": "stderr",
          "text": [
            "Loss=0.6380599737167358 Batch_id=390 Accuracy=76.83: 100%|██████████| 391/391 [00:26<00:00, 14.58it/s]\n"
          ]
        },
        {
          "output_type": "stream",
          "name": "stdout",
          "text": [
            "\n",
            "Test set: Average loss: 0.5346, Accuracy: 8157/10000 (81.57%)\n",
            "\n",
            "EPOCH: 47\n"
          ]
        },
        {
          "output_type": "stream",
          "name": "stderr",
          "text": [
            "Loss=0.7101469039916992 Batch_id=390 Accuracy=77.00: 100%|██████████| 391/391 [00:26<00:00, 14.61it/s]\n"
          ]
        },
        {
          "output_type": "stream",
          "name": "stdout",
          "text": [
            "\n",
            "Test set: Average loss: 0.5313, Accuracy: 8169/10000 (81.69%)\n",
            "\n",
            "EPOCH: 48\n"
          ]
        },
        {
          "output_type": "stream",
          "name": "stderr",
          "text": [
            "Loss=0.5076721906661987 Batch_id=390 Accuracy=77.19: 100%|██████████| 391/391 [00:26<00:00, 14.53it/s]\n"
          ]
        },
        {
          "output_type": "stream",
          "name": "stdout",
          "text": [
            "\n",
            "Test set: Average loss: 0.5330, Accuracy: 8183/10000 (81.83%)\n",
            "\n",
            "EPOCH: 49\n"
          ]
        },
        {
          "output_type": "stream",
          "name": "stderr",
          "text": [
            "Loss=0.784282386302948 Batch_id=390 Accuracy=77.15: 100%|██████████| 391/391 [00:26<00:00, 14.59it/s]\n"
          ]
        },
        {
          "output_type": "stream",
          "name": "stdout",
          "text": [
            "\n",
            "Test set: Average loss: 0.5335, Accuracy: 8167/10000 (81.67%)\n",
            "\n"
          ]
        }
      ]
    },
    {
      "cell_type": "code",
      "source": [
        "\n",
        "# Wrong predictions\n",
        "cnt=0\n",
        "import random\n",
        "data, target = next(iter(test_loader))\n",
        "data, target = data.to(device), target.to(device)\n",
        "output = model(data)\n",
        "pred = output.argmax(dim=1, keepdim=True)\n",
        "img_lst=[]\n",
        "cat_lst=[]\n",
        "x_lst=[]\n",
        "for i in range(0,127):\n",
        "  x = random.randint(0,127)\n",
        "\n",
        "  if pred[x].item()!=target[x].item():\n",
        "    img=data[x].cpu().numpy().T\n",
        "    img_lst.append(img)\n",
        "    cat=[value for key,value in enumerate(train_data.class_to_idx) if key!=target[x].item()][0]\n",
        "    cat_lst.append(cat)\n",
        "    x_lst.append(x)\n",
        "    cnt+=1\n",
        "  if cnt>9:\n",
        "    break"
      ],
      "metadata": {
        "id": "Gpi6B__uNLSy"
      },
      "execution_count": 22,
      "outputs": []
    },
    {
      "cell_type": "code",
      "source": [
        "for i in range(10):\n",
        "  plt.subplot(5,2,i+1)\n",
        "  plt.tight_layout()\n",
        "  plt.imshow(img_lst[i])\n",
        "  plt.title(cat_lst[i])\n",
        "  plt.xticks([])\n",
        "  plt.yticks([])"
      ],
      "metadata": {
        "id": "G8HnUGgqu1H1",
        "colab": {
          "base_uri": "https://localhost:8080/",
          "height": 642
        },
        "outputId": "2fc530e2-06b6-4d60-8aa8-4b0ef59e82f6"
      },
      "execution_count": 23,
      "outputs": [
        {
          "output_type": "stream",
          "name": "stderr",
          "text": [
            "WARNING:matplotlib.image:Clipping input data to the valid range for imshow with RGB data ([0..1] for floats or [0..255] for integers).\n",
            "WARNING:matplotlib.image:Clipping input data to the valid range for imshow with RGB data ([0..1] for floats or [0..255] for integers).\n",
            "WARNING:matplotlib.image:Clipping input data to the valid range for imshow with RGB data ([0..1] for floats or [0..255] for integers).\n",
            "WARNING:matplotlib.image:Clipping input data to the valid range for imshow with RGB data ([0..1] for floats or [0..255] for integers).\n",
            "WARNING:matplotlib.image:Clipping input data to the valid range for imshow with RGB data ([0..1] for floats or [0..255] for integers).\n",
            "WARNING:matplotlib.image:Clipping input data to the valid range for imshow with RGB data ([0..1] for floats or [0..255] for integers).\n",
            "WARNING:matplotlib.image:Clipping input data to the valid range for imshow with RGB data ([0..1] for floats or [0..255] for integers).\n",
            "WARNING:matplotlib.image:Clipping input data to the valid range for imshow with RGB data ([0..1] for floats or [0..255] for integers).\n",
            "WARNING:matplotlib.image:Clipping input data to the valid range for imshow with RGB data ([0..1] for floats or [0..255] for integers).\n",
            "WARNING:matplotlib.image:Clipping input data to the valid range for imshow with RGB data ([0..1] for floats or [0..255] for integers).\n"
          ]
        },
        {
          "output_type": "display_data",
          "data": {
            "text/plain": [
              "<Figure size 640x480 with 10 Axes>"
            ],
            "image/png": "[encoded data removed]"
          },
          "metadata": {}
        }
      ]
    },
    {
      "cell_type": "code",
      "source": [],
      "metadata": {
        "id": "ItDFyJR_z68J"
      },
      "execution_count": null,
      "outputs": []
    }
  ]
}